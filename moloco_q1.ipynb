{
 "cells": [
  {
   "cell_type": "code",
   "execution_count": 70,
   "metadata": {
    "ExecuteTime": {
     "end_time": "2020-04-29T15:47:15.627363Z",
     "start_time": "2020-04-29T15:47:15.596920Z"
    }
   },
   "outputs": [],
   "source": [
    "import pandas as pd\n",
    "import numpy as np\n",
    "import mysql.connector\n",
    "\n",
    "connect = mysql.connector.connect(host='localhost',database='temp',user='root',password='pw')\n",
    "cursor = connect.cursor()"
   ]
  },
  {
   "cell_type": "markdown",
   "metadata": {},
   "source": [
    "Q1: Consider only the rows with country_id = \"BDV\" (there are 844 such rows). For each site_id, we can compute the number of unique user_id's found in these 844 rows. Which site_id has the largest number of unique users? And what's the number?"
   ]
  },
  {
   "cell_type": "code",
   "execution_count": 71,
   "metadata": {
    "ExecuteTime": {
     "end_time": "2020-04-29T15:47:16.942272Z",
     "start_time": "2020-04-29T15:47:16.914542Z"
    }
   },
   "outputs": [
    {
     "data": {
      "text/plain": [
       "[('5NPAU', 544), ('N0OTG', 90), ('3POLC', 2)]"
      ]
     },
     "execution_count": 71,
     "metadata": {},
     "output_type": "execute_result"
    }
   ],
   "source": [
    "query = '''\n",
    "    select site_id, count(distinct(user_id)) as cnt \n",
    "    from q11 \n",
    "    where country_id =\"BDV\" \n",
    "    group by site_id \n",
    "    order by cnt desc\n",
    ";\n",
    "'''\n",
    "cursor.execute(query)\n",
    "cursor.fetchall()"
   ]
  },
  {
   "cell_type": "markdown",
   "metadata": {},
   "source": [
    "Q2: Between 2019-02-03 00:00:00 and 2019-02-04 23:59:59, there are four users who visited a certain site more than 10 times. Find these four users & which sites they (each) visited more than 10 times. (Simply provides four triples in the form (user_id, site_id, number of visits) in the box below.)"
   ]
  },
  {
   "cell_type": "code",
   "execution_count": 72,
   "metadata": {
    "ExecuteTime": {
     "end_time": "2020-04-29T15:47:17.682320Z",
     "start_time": "2020-04-29T15:47:17.644544Z"
    }
   },
   "outputs": [
    {
     "data": {
      "text/plain": [
       "[('LC3C7E', '3POLC', 15),\n",
       " ('LC3A59', 'N0OTG', 26),\n",
       " ('LC06C3', 'N0OTG', 25),\n",
       " ('LC3C9D', 'N0OTG', 17)]"
      ]
     },
     "execution_count": 72,
     "metadata": {},
     "output_type": "execute_result"
    }
   ],
   "source": [
    "query2 = '''\n",
    "    select * from \n",
    "        (select user_id, site_id, count(ts) as num_visit \n",
    "        from q11 \n",
    "        where ts between '2019-02-03 00:00:00' and '2019-02-04 23:59:59'\n",
    "        group by user_id, site_id) t \n",
    "    where num_visit > 10\n",
    "; \n",
    "'''\n",
    "cursor.execute(query2)\n",
    "cursor.fetchall()"
   ]
  },
  {
   "cell_type": "markdown",
   "metadata": {},
   "source": [
    "Q3: For each site, compute the unique number of users whose last visit (found in the original data set) was to that site. For instance, user \"LC3561\"'s last visit is to \"N0OTG\" based on timestamp data. Based on this measure, what are top three sites? (hint: site \"3POLC\" is ranked at 5th with 28 users whose last visit in the data set was to 3POLC; simply provide three pairs in the form (site_id, number of users).)"
   ]
  },
  {
   "cell_type": "code",
   "execution_count": 73,
   "metadata": {
    "ExecuteTime": {
     "end_time": "2020-04-29T15:47:18.462092Z",
     "start_time": "2020-04-29T15:47:18.411666Z"
    }
   },
   "outputs": [
    {
     "data": {
      "text/plain": [
       "[('5NPAU', 992),\n",
       " ('N0OTG', 561),\n",
       " ('QGO3G', 289),\n",
       " ('GVOFK', 42),\n",
       " ('3POLC', 28),\n",
       " ('RT9Z6', 2),\n",
       " ('EUZ/Q', 1),\n",
       " ('JSUUP', 1)]"
      ]
     },
     "execution_count": 73,
     "metadata": {},
     "output_type": "execute_result"
    }
   ],
   "source": [
    "query3 = '''\n",
    "select site_id, count(distinct(user_id)) as l_user_cnt\n",
    "from \n",
    "    (select user_id, site_id, row_number() over (partition by user_id order by ts desc) as rn \n",
    "    from q11) t \n",
    "where rn = 1 \n",
    "group by site_id\n",
    "order by l_user_cnt desc\n",
    "; \n",
    "\n",
    "'''\n",
    "cursor.execute(query3)\n",
    "cursor.fetchall()"
   ]
  },
  {
   "cell_type": "markdown",
   "metadata": {
    "ExecuteTime": {
     "start_time": "2020-04-28T18:49:57.711Z"
    }
   },
   "source": [
    "Q4: For each user, determine the first site he/she visited and the last site he/she visited based on the timestamp data. Compute the number of users whose first/last visits are to the same website. What is the number?"
   ]
  },
  {
   "cell_type": "code",
   "execution_count": 74,
   "metadata": {
    "ExecuteTime": {
     "end_time": "2020-04-29T15:47:18.921184Z",
     "start_time": "2020-04-29T15:47:18.749054Z"
    },
    "scrolled": true
   },
   "outputs": [
    {
     "data": {
      "text/plain": [
       "[(1670,)]"
      ]
     },
     "execution_count": 74,
     "metadata": {},
     "output_type": "execute_result"
    }
   ],
   "source": [
    "query4 = '''\n",
    "select count(distinct(t1.user_id))\n",
    "from \n",
    "    (select user_id, site_id as site_id_f, row_number() over (partition by user_id order by ts asc) as rn_first\n",
    "    from q11) t1\n",
    "inner join \n",
    "    (select user_id, site_id as site_id_l, row_number() over (partition by user_id order by ts desc) as rn_last\n",
    "    from q11) t2 \n",
    "on t1.user_id = t2.user_id\n",
    "where t1.rn_first = 1 \n",
    "and t2.rn_last = 1\n",
    "and t1.site_id_f = t2.site_id_l \n",
    "; \n",
    "'''\n",
    "cursor.execute(query4)\n",
    "cursor.fetchall()\n",
    "# The number of users whose first/last visits are to the same website: 1670 users"
   ]
  },
  {
   "cell_type": "code",
   "execution_count": 75,
   "metadata": {
    "ExecuteTime": {
     "end_time": "2020-04-29T15:47:19.049697Z",
     "start_time": "2020-04-29T15:47:18.948670Z"
    }
   },
   "outputs": [
    {
     "data": {
      "text/plain": [
       "409"
      ]
     },
     "execution_count": 75,
     "metadata": {},
     "output_type": "execute_result"
    }
   ],
   "source": [
    "query4_2 = '''\n",
    "select A.user_id, A.site_id_f, B.cnt_ts from \n",
    "   (select t1.user_id, site_id_f\n",
    "        from \n",
    "            (select user_id, site_id as site_id_f, row_number() over (partition by user_id order by ts asc) as rn_first\n",
    "            from q11) t1\n",
    "        inner join \n",
    "            (select user_id, site_id as site_id_l, row_number() over (partition by user_id order by ts desc) as rn_last\n",
    "            from q11) t2 \n",
    "        on t1.user_id = t2.user_id\n",
    "        where t1.rn_first = 1 \n",
    "        and t2.rn_last = 1\n",
    "        and t1.site_id_f = t2.site_id_l ) A\n",
    "left join \n",
    "    (select user_id, count(distinct(ts)) as cnt_ts from q11 group by user_id) B\n",
    "on A.user_id = B.user_id   \n",
    "where  \n",
    "B.cnt_ts >1  \n",
    "\n",
    "; \n",
    "'''\n",
    "cursor.execute(query4_2)\n",
    "l = cursor.fetchall()\n",
    "len(l) \n",
    "\n",
    "# if we exclude the users whose total number of visits is only one \n",
    "# The number of users whose first/last visits are to the same website: 409 users"
   ]
  },
  {
   "cell_type": "code",
   "execution_count": null,
   "metadata": {},
   "outputs": [],
   "source": []
  },
  {
   "cell_type": "code",
   "execution_count": null,
   "metadata": {},
   "outputs": [],
   "source": []
  }
 ],
 "metadata": {
  "kernelspec": {
   "display_name": "Python 3",
   "language": "python",
   "name": "python3"
  },
  "language_info": {
   "codemirror_mode": {
    "name": "ipython",
    "version": 3
   },
   "file_extension": ".py",
   "mimetype": "text/x-python",
   "name": "python",
   "nbconvert_exporter": "python",
   "pygments_lexer": "ipython3",
   "version": "3.6.8"
  },
  "toc": {
   "nav_menu": {},
   "number_sections": true,
   "sideBar": true,
   "skip_h1_title": false,
   "toc_cell": false,
   "toc_position": {},
   "toc_section_display": "block",
   "toc_window_display": false
  }
 },
 "nbformat": 4,
 "nbformat_minor": 2
}
